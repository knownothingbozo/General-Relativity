{
 "cells": [
  {
   "cell_type": "code",
   "execution_count": 1,
   "id": "1ad15966-655d-43f3-8e71-f74984aa241a",
   "metadata": {},
   "outputs": [],
   "source": [
    "import sympy as sym\n",
    "import numpy as np\n",
    "from IPython.core.interactiveshell import InteractiveShell\n",
    "InteractiveShell.ast_node_interactivity = 'all'"
   ]
  },
  {
   "cell_type": "code",
   "execution_count": 34,
   "id": "6152690d-3ae9-41fd-a4c3-7d6233b5bf53",
   "metadata": {},
   "outputs": [],
   "source": [
    "def Christoffel_Sym (g, x): ### Takes in metric and array-like of sympy symbols\n",
    "    n = g.shape[0]\n",
    "    gamma = sym.MutableDenseNDimArray([0]*n**3, (n,n,n))\n",
    "    for i in range(n):\n",
    "        for j in range(n):\n",
    "            for k in range(n):\n",
    "                gamma[i,j,k] = 1/2 * (g**-1)[i,i] * (sym.diff(g[k,i],x[j])+sym.diff(g[j,i],x[k])-sym.diff(g[j,k],x[i]))\n",
    "    return gamma"
   ]
  },
  {
   "cell_type": "code",
   "execution_count": 36,
   "id": "788e2565-9028-4d3e-a6f8-f47044b5f7cd",
   "metadata": {},
   "outputs": [],
   "source": [
    "r, theta, phi = sym.symbols('r, theta, phi')"
   ]
  },
  {
   "cell_type": "code",
   "execution_count": 40,
   "id": "b4e2821f-62ad-4dfe-bb12-6d45a646980c",
   "metadata": {},
   "outputs": [],
   "source": [
    "g1 = sym.Matrix([[1,0],\n",
    "                [0,1]])\n",
    "g2 = sym.Matrix([[1,0],\n",
    "                [0,r**2]])\n",
    "g3 = sym.Matrix([[1,0,0],\n",
    "                [0,r**2,0],\n",
    "                [0,0,(r*sym.sin(theta))**2]])"
   ]
  },
  {
   "cell_type": "code",
   "execution_count": 41,
   "id": "8c2e2d5a-ef2d-43c6-af51-28daf5617546",
   "metadata": {},
   "outputs": [
    {
     "data": {
      "text/latex": [
       "$\\displaystyle \\left[\\begin{matrix}\\left[\\begin{matrix}0 & 0\\\\0 & - 1.0 r\\end{matrix}\\right] & \\left[\\begin{matrix}0 & \\frac{1.0}{r}\\\\\\frac{1.0}{r} & 0\\end{matrix}\\right]\\end{matrix}\\right]$"
      ],
      "text/plain": [
       "[[[0, 0], [0, -1.0*r]], [[0, 1.0/r], [1.0/r, 0]]]"
      ]
     },
     "execution_count": 41,
     "metadata": {},
     "output_type": "execute_result"
    }
   ],
   "source": [
    "x = [r,theta]\n",
    "Christoffel_Sym(g2,x)"
   ]
  },
  {
   "cell_type": "code",
   "execution_count": 42,
   "id": "9453d1e9-f082-4eab-aa80-1e03e0da8d01",
   "metadata": {},
   "outputs": [
    {
     "data": {
      "text/latex": [
       "$\\displaystyle \\left[\\begin{matrix}\\left[\\begin{matrix}0 & 0 & 0\\\\0 & - 1.0 r & 0\\\\0 & 0 & - 1.0 r \\sin^{2}{\\left(\\theta \\right)}\\end{matrix}\\right] & \\left[\\begin{matrix}0 & \\frac{1.0}{r} & 0\\\\\\frac{1.0}{r} & 0 & 0\\\\0 & 0 & - 1.0 \\sin{\\left(\\theta \\right)} \\cos{\\left(\\theta \\right)}\\end{matrix}\\right] & \\left[\\begin{matrix}0 & 0 & \\frac{1.0}{r}\\\\0 & 0 & \\frac{1.0 \\cos{\\left(\\theta \\right)}}{\\sin{\\left(\\theta \\right)}}\\\\\\frac{1.0}{r} & \\frac{1.0 \\cos{\\left(\\theta \\right)}}{\\sin{\\left(\\theta \\right)}} & 0\\end{matrix}\\right]\\end{matrix}\\right]$"
      ],
      "text/plain": [
       "[[[0, 0, 0], [0, -1.0*r, 0], [0, 0, -1.0*r*sin(theta)**2]], [[0, 1.0/r, 0], [1.0/r, 0, 0], [0, 0, -1.0*sin(theta)*cos(theta)]], [[0, 0, 1.0/r], [0, 0, 1.0*cos(theta)/sin(theta)], [1.0/r, 1.0*cos(theta)/sin(theta), 0]]]"
      ]
     },
     "execution_count": 42,
     "metadata": {},
     "output_type": "execute_result"
    }
   ],
   "source": [
    "x = [r,theta,phi]\n",
    "Christoffel_Sym(g3,x)"
   ]
  },
  {
   "cell_type": "code",
   "execution_count": null,
   "id": "048281b7-96f6-477f-8616-b39c931c484c",
   "metadata": {},
   "outputs": [],
   "source": []
  }
 ],
 "metadata": {
  "kernelspec": {
   "display_name": "Python 3 (ipykernel)",
   "language": "python",
   "name": "python3"
  },
  "language_info": {
   "codemirror_mode": {
    "name": "ipython",
    "version": 3
   },
   "file_extension": ".py",
   "mimetype": "text/x-python",
   "name": "python",
   "nbconvert_exporter": "python",
   "pygments_lexer": "ipython3",
   "version": "3.12.8"
  }
 },
 "nbformat": 4,
 "nbformat_minor": 5
}
