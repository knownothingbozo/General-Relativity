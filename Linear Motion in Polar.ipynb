{
 "cells": [
  {
   "cell_type": "code",
   "execution_count": 1,
   "id": "238305c7-03bb-494c-bb2a-595db7ffeb78",
   "metadata": {},
   "outputs": [],
   "source": [
    "import numpy as np\n",
    "import sympy as sym\n",
    "from IPython.core.interactiveshell import InteractiveShell\n",
    "InteractiveShell.ast_node_interactivity = 'all'"
   ]
  },
  {
   "cell_type": "code",
   "execution_count": 2,
   "id": "1fe4763d-91f9-4b73-b0de-9afbc40732ff",
   "metadata": {},
   "outputs": [],
   "source": [
    "t, x0, y0, r, dr, ddr, th, dth, ddth = sym.symbols('t, x0, y0, r, dr, ddr, th, dth, ddt')"
   ]
  },
  {
   "cell_type": "code",
   "execution_count": 3,
   "id": "ff74e101-bf38-4f43-bab5-921f2bd73f88",
   "metadata": {},
   "outputs": [],
   "source": [
    "f1 = ((dr*sym.cos(th)-r*dth*sym.sin(th)+2*t*(ddr*sym.cos(th)\n",
    "        -2*dr*dth*sym.sin(th)-r*ddth*sym.sin(th)-r*dth**2*sym.cos(th))*(x0+t*(dr*sym.cos(th)-r*dth*sym.sin(th))))\n",
    "        +(dr*sym.sin(th)+r*dth*sym.cos(th)+2*t*(ddr*sym.sin(th)\n",
    "        +2*dr*dth*sym.cos(th)+r*ddth*sym.cos(th)-r*dth**2*sym.sin(th))*(y0+t*(dr*sym.sin(th)+r*dth*sym.cos(th))))) \\\n",
    "        /(2*sym.sqrt((x0+t*(dr*sym.cos(th)-r*dth*sym.sin(th)))**2+(y0+t*(dr*sym.sin(th)+r*dth*sym.cos(th)))**2)) - dr\n",
    "g1 = ddr*sym.sin(th)+2*dr*dth*sym.cos(th)+r*ddth*sym.cos(th)-r*dth**2*sym.sin(th)\n",
    "h1 = (((dr*sym.sin(th)+r*dth*sym.cos(th))+t*(ddr*sym.sin(th)+2*dr*dth*sym.cos(th)+r*ddth*sym.cos(th)-r*dth**2*sym.sin(th)))/r\n",
    "      -dr*(y0+t*(dr*sym.sin(th)+r*dth*sym.cos(th))))/r**2\n",
    "ddr1 = sym.solve(f1,ddr)[0]"
   ]
  },
  {
   "cell_type": "code",
   "execution_count": 9,
   "id": "31443a47-1497-45b6-aaa9-681cc36e92a4",
   "metadata": {},
   "outputs": [
    {
     "data": {
      "text/latex": [
       "$\\displaystyle \\frac{ddr dr t^{2} + ddr t x_{0} \\cos{\\left(th \\right)} + ddr t y_{0} \\sin{\\left(th \\right)} + ddt dth r^{2} t^{2} - ddt r t x_{0} \\sin{\\left(th \\right)} + ddt r t y_{0} \\cos{\\left(th \\right)} + dr dth^{2} r t^{2} - 2 dr dth t x_{0} \\sin{\\left(th \\right)} + 2 dr dth t y_{0} \\cos{\\left(th \\right)} - dr \\sqrt{dr^{2} t^{2} + 2 dr t x_{0} \\cos{\\left(th \\right)} + 2 dr t y_{0} \\sin{\\left(th \\right)} + dth^{2} r^{2} t^{2} - 2 dth r t x_{0} \\sin{\\left(th \\right)} + 2 dth r t y_{0} \\cos{\\left(th \\right)} + x_{0}^{2} + y_{0}^{2}} + \\frac{\\sqrt{2} dr \\sin{\\left(th + \\frac{\\pi}{4} \\right)}}{2} - dth^{2} r t x_{0} \\cos{\\left(th \\right)} - dth^{2} r t y_{0} \\sin{\\left(th \\right)} + \\frac{\\sqrt{2} dth r \\cos{\\left(th + \\frac{\\pi}{4} \\right)}}{2}}{\\sqrt{\\left(t \\left(dr \\sin{\\left(th \\right)} + dth r \\cos{\\left(th \\right)}\\right) + y_{0}\\right)^{2} + \\left(t \\left(dr \\cos{\\left(th \\right)} - dth r \\sin{\\left(th \\right)}\\right) + x_{0}\\right)^{2}}}$"
      ],
      "text/plain": [
       "(ddr*dr*t**2 + ddr*t*x0*cos(th) + ddr*t*y0*sin(th) + ddt*dth*r**2*t**2 - ddt*r*t*x0*sin(th) + ddt*r*t*y0*cos(th) + dr*dth**2*r*t**2 - 2*dr*dth*t*x0*sin(th) + 2*dr*dth*t*y0*cos(th) - dr*sqrt(dr**2*t**2 + 2*dr*t*x0*cos(th) + 2*dr*t*y0*sin(th) + dth**2*r**2*t**2 - 2*dth*r*t*x0*sin(th) + 2*dth*r*t*y0*cos(th) + x0**2 + y0**2) + sqrt(2)*dr*sin(th + pi/4)/2 - dth**2*r*t*x0*cos(th) - dth**2*r*t*y0*sin(th) + sqrt(2)*dth*r*cos(th + pi/4)/2)/sqrt((t*(dr*sin(th) + dth*r*cos(th)) + y0)**2 + (t*(dr*cos(th) - dth*r*sin(th)) + x0)**2)"
      ]
     },
     "execution_count": 9,
     "metadata": {},
     "output_type": "execute_result"
    }
   ],
   "source": [
    "sym.simplify(f1)"
   ]
  },
  {
   "cell_type": "code",
   "execution_count": 4,
   "id": "b863ac8c-353f-4188-a0d8-6696fc3a4bb2",
   "metadata": {},
   "outputs": [],
   "source": [
    "ddth1 = sym.solve(h1.subs(ddr, ddr1), ddth)[0]"
   ]
  },
  {
   "cell_type": "code",
   "execution_count": 5,
   "id": "50d2f3d6-179a-4815-96fe-7fbff94dd5e6",
   "metadata": {},
   "outputs": [
    {
     "data": {
      "text/latex": [
       "$\\displaystyle \\frac{dr^{3} r t^{2} \\sin{\\left(th \\right)} + dr^{2} dth r^{2} t^{2} \\cos{\\left(th \\right)} - 2 dr^{2} dth t^{2} \\cos{\\left(th \\right)} + \\frac{dr^{2} r t x_{0} \\sin{\\left(2 th \\right)}}{2} - \\frac{dr^{2} r t y_{0} \\cos{\\left(2 th \\right)}}{2} + \\frac{3 dr^{2} r t y_{0}}{2} - dr^{2} t \\sin{\\left(th \\right)} + 2 dr dth^{2} r t^{2} \\sin{\\left(th \\right)} + \\frac{dr dth r^{2} t x_{0} \\cos{\\left(2 th \\right)}}{2} + \\frac{dr dth r^{2} t x_{0}}{2} + \\frac{dr dth r^{2} t y_{0} \\sin{\\left(2 th \\right)}}{2} - dr dth r t \\cos{\\left(th \\right)} - 2 dr dth t x_{0} + dr r x_{0} y_{0} \\cos{\\left(th \\right)} + dr r y_{0}^{2} \\sin{\\left(th \\right)} - \\frac{dr x_{0} \\sin{\\left(2 th \\right)}}{2} + \\frac{dr y_{0} \\cos{\\left(2 th \\right)}}{2} - \\frac{dr y_{0}}{2} - dr \\sqrt{dr^{2} t^{2} + 2 dr t x_{0} \\cos{\\left(th \\right)} + 2 dr t y_{0} \\sin{\\left(th \\right)} + dth^{2} r^{2} t^{2} - 2 dth r t x_{0} \\sin{\\left(th \\right)} + 2 dth r t y_{0} \\cos{\\left(th \\right)} + x_{0}^{2} + y_{0}^{2}} \\sin{\\left(th \\right)} - \\frac{\\sqrt{2} dr \\cos{\\left(2 th + \\frac{\\pi}{4} \\right)}}{4} + \\frac{dr}{4} - \\frac{dth r x_{0} \\cos{\\left(2 th \\right)}}{2} - \\frac{dth r x_{0}}{2} - \\frac{dth r y_{0} \\sin{\\left(2 th \\right)}}{2} + \\frac{\\sqrt{2} dth r \\sin{\\left(2 th + \\frac{\\pi}{4} \\right)}}{4} - \\frac{dth r}{4}}{r t \\left(dr t \\cos{\\left(th \\right)} - dth r t \\sin{\\left(th \\right)} + x_{0}\\right)}$"
      ],
      "text/plain": [
       "(dr**3*r*t**2*sin(th) + dr**2*dth*r**2*t**2*cos(th) - 2*dr**2*dth*t**2*cos(th) + dr**2*r*t*x0*sin(2*th)/2 - dr**2*r*t*y0*cos(2*th)/2 + 3*dr**2*r*t*y0/2 - dr**2*t*sin(th) + 2*dr*dth**2*r*t**2*sin(th) + dr*dth*r**2*t*x0*cos(2*th)/2 + dr*dth*r**2*t*x0/2 + dr*dth*r**2*t*y0*sin(2*th)/2 - dr*dth*r*t*cos(th) - 2*dr*dth*t*x0 + dr*r*x0*y0*cos(th) + dr*r*y0**2*sin(th) - dr*x0*sin(2*th)/2 + dr*y0*cos(2*th)/2 - dr*y0/2 - dr*sqrt(dr**2*t**2 + 2*dr*t*x0*cos(th) + 2*dr*t*y0*sin(th) + dth**2*r**2*t**2 - 2*dth*r*t*x0*sin(th) + 2*dth*r*t*y0*cos(th) + x0**2 + y0**2)*sin(th) - sqrt(2)*dr*cos(2*th + pi/4)/4 + dr/4 - dth*r*x0*cos(2*th)/2 - dth*r*x0/2 - dth*r*y0*sin(2*th)/2 + sqrt(2)*dth*r*sin(2*th + pi/4)/4 - dth*r/4)/(r*t*(dr*t*cos(th) - dth*r*t*sin(th) + x0))"
      ]
     },
     "execution_count": 5,
     "metadata": {},
     "output_type": "execute_result"
    },
    {
     "data": {
      "text/latex": [
       "$\\displaystyle \\frac{\\tilde{\\infty} \\left(2 dr r x_{0} y_{0} \\cos{\\left(th \\right)} + 2 dr r y_{0}^{2} \\sin{\\left(th \\right)} - dr x_{0} \\sin{\\left(2 th \\right)} + dr y_{0} \\cos{\\left(2 th \\right)} - dr y_{0} - 2 dr \\sqrt{x_{0}^{2} + y_{0}^{2}} \\sin{\\left(th \\right)} - \\frac{\\sqrt{2} dr \\cos{\\left(2 th + \\frac{\\pi}{4} \\right)}}{2} + \\frac{dr}{2} - dth r x_{0} \\cos{\\left(2 th \\right)} - dth r x_{0} - dth r y_{0} \\sin{\\left(2 th \\right)} + \\frac{\\sqrt{2} dth r \\sin{\\left(2 th + \\frac{\\pi}{4} \\right)}}{2} - \\frac{dth r}{2}\\right)}{r x_{0}}$"
      ],
      "text/plain": [
       "zoo*(2*dr*r*x0*y0*cos(th) + 2*dr*r*y0**2*sin(th) - dr*x0*sin(2*th) + dr*y0*cos(2*th) - dr*y0 - 2*dr*sqrt(x0**2 + y0**2)*sin(th) - sqrt(2)*dr*cos(2*th + pi/4)/2 + dr/2 - dth*r*x0*cos(2*th) - dth*r*x0 - dth*r*y0*sin(2*th) + sqrt(2)*dth*r*sin(2*th + pi/4)/2 - dth*r/2)/(r*x0)"
      ]
     },
     "execution_count": 5,
     "metadata": {},
     "output_type": "execute_result"
    }
   ],
   "source": [
    "sym.simplify(ddth1)\n",
    "ddth1.subs(t,0)"
   ]
  },
  {
   "cell_type": "code",
   "execution_count": 6,
   "id": "a7cb807d-2901-4ff2-a5d1-cefc12ede3ce",
   "metadata": {},
   "outputs": [],
   "source": [
    "ddr2 = sym.solve(f1.subs(ddth, ddth1), ddr)[0]"
   ]
  },
  {
   "cell_type": "code",
   "execution_count": 7,
   "id": "25c1e2a4-c158-46fe-9dd2-016f82d87e15",
   "metadata": {},
   "outputs": [
    {
     "data": {
      "text/latex": [
       "$\\displaystyle \\frac{- 2 dr^{3} dth r^{2} t^{3} \\sin{\\left(th \\right)} - dr^{3} r t^{2} x_{0} \\cos{\\left(2 th \\right)} + dr^{3} r t^{2} x_{0} - dr^{3} r t^{2} y_{0} \\sin{\\left(2 th \\right)} - 2 dr^{2} dth^{2} r^{3} t^{3} \\cos{\\left(th \\right)} + 2 dr^{2} dth^{2} r t^{3} \\cos{\\left(th \\right)} - 4 dr^{2} dth r^{2} t^{2} y_{0} + 2 dr^{2} dth r t^{2} \\sin{\\left(th \\right)} + \\frac{dr^{2} r t x_{0}^{2} \\cos{\\left(th \\right)}}{2} - \\frac{dr^{2} r t x_{0}^{2} \\cos{\\left(3 th \\right)}}{2} + 3 dr^{2} r t x_{0} y_{0} \\sin{\\left(th \\right)} - dr^{2} r t x_{0} y_{0} \\sin{\\left(3 th \\right)} - \\frac{5 dr^{2} r t y_{0}^{2} \\cos{\\left(th \\right)}}{2} + \\frac{dr^{2} r t y_{0}^{2} \\cos{\\left(3 th \\right)}}{2} + dr^{2} t x_{0} \\cos{\\left(2 th \\right)} - dr^{2} t x_{0} + dr^{2} t y_{0} \\sin{\\left(2 th \\right)} + 2 dr^{2} t \\sqrt{dr^{2} t^{2} + 2 dr t x_{0} \\cos{\\left(th \\right)} + 2 dr t y_{0} \\sin{\\left(th \\right)} + dth^{2} r^{2} t^{2} - 2 dth r t x_{0} \\sin{\\left(th \\right)} + 2 dth r t y_{0} \\cos{\\left(th \\right)} + x_{0}^{2} + y_{0}^{2}} \\cos{\\left(th \\right)} - \\frac{\\sqrt{2} dr^{2} t \\sin{\\left(2 th + \\frac{\\pi}{4} \\right)}}{2} - \\frac{dr^{2} t}{2} - 2 dr dth^{3} r^{2} t^{3} \\sin{\\left(th \\right)} - dr dth^{2} r^{3} t^{2} x_{0} \\cos{\\left(2 th \\right)} - dr dth^{2} r^{3} t^{2} x_{0} - dr dth^{2} r^{3} t^{2} y_{0} \\sin{\\left(2 th \\right)} + 2 dr dth^{2} r^{2} t^{2} \\cos{\\left(th \\right)} + dr dth^{2} r t^{2} x_{0} \\cos{\\left(2 th \\right)} + 3 dr dth^{2} r t^{2} x_{0} + dr dth^{2} r t^{2} y_{0} \\sin{\\left(2 th \\right)} + \\frac{dr dth r^{2} t x_{0}^{2} \\sin{\\left(th \\right)}}{2} + \\frac{dr dth r^{2} t x_{0}^{2} \\sin{\\left(3 th \\right)}}{2} - 3 dr dth r^{2} t x_{0} y_{0} \\cos{\\left(th \\right)} - dr dth r^{2} t x_{0} y_{0} \\cos{\\left(3 th \\right)} - \\frac{5 dr dth r^{2} t y_{0}^{2} \\sin{\\left(th \\right)}}{2} - \\frac{dr dth r^{2} t y_{0}^{2} \\sin{\\left(3 th \\right)}}{2} + 2 dr dth r t y_{0} - \\frac{\\sqrt{2} dr dth r t \\cos{\\left(2 th + \\frac{\\pi}{4} \\right)}}{2} - \\frac{dr dth r t}{2} + dr r x_{0}^{2} y_{0} \\sin{\\left(2 th \\right)} - 2 dr r x_{0} y_{0}^{2} \\cos{\\left(2 th \\right)} - dr r y_{0}^{3} \\sin{\\left(2 th \\right)} - \\frac{dr x_{0}^{2} \\cos{\\left(th \\right)}}{2} + \\frac{dr x_{0}^{2} \\cos{\\left(3 th \\right)}}{2} - dr x_{0} y_{0} \\sin{\\left(th \\right)} + dr x_{0} y_{0} \\sin{\\left(3 th \\right)} + dr x_{0} \\sqrt{dr^{2} t^{2} + 2 dr t x_{0} \\cos{\\left(th \\right)} + 2 dr t y_{0} \\sin{\\left(th \\right)} + dth^{2} r^{2} t^{2} - 2 dth r t x_{0} \\sin{\\left(th \\right)} + 2 dth r t y_{0} \\cos{\\left(th \\right)} + x_{0}^{2} + y_{0}^{2}} \\cos{\\left(2 th \\right)} + dr x_{0} \\sqrt{dr^{2} t^{2} + 2 dr t x_{0} \\cos{\\left(th \\right)} + 2 dr t y_{0} \\sin{\\left(th \\right)} + dth^{2} r^{2} t^{2} - 2 dth r t x_{0} \\sin{\\left(th \\right)} + 2 dth r t y_{0} \\cos{\\left(th \\right)} + x_{0}^{2} + y_{0}^{2}} - \\frac{dr x_{0} \\sin{\\left(th \\right)}}{4} - \\frac{\\sqrt{2} dr x_{0} \\sin{\\left(3 th + \\frac{\\pi}{4} \\right)}}{4} - \\frac{3 dr x_{0} \\cos{\\left(th \\right)}}{4} + \\frac{dr y_{0}^{2} \\cos{\\left(th \\right)}}{2} - \\frac{dr y_{0}^{2} \\cos{\\left(3 th \\right)}}{2} + dr y_{0} \\sqrt{dr^{2} t^{2} + 2 dr t x_{0} \\cos{\\left(th \\right)} + 2 dr t y_{0} \\sin{\\left(th \\right)} + dth^{2} r^{2} t^{2} - 2 dth r t x_{0} \\sin{\\left(th \\right)} + 2 dth r t y_{0} \\cos{\\left(th \\right)} + x_{0}^{2} + y_{0}^{2}} \\sin{\\left(2 th \\right)} - \\frac{\\sqrt{2} dr y_{0} \\sin{\\left(th + \\frac{\\pi}{4} \\right)}}{4} + \\frac{\\sqrt{2} dr y_{0} \\cos{\\left(3 th + \\frac{\\pi}{4} \\right)}}{4} - dth^{3} r^{2} t^{2} x_{0} \\sin{\\left(2 th \\right)} + dth^{3} r^{2} t^{2} y_{0} \\cos{\\left(2 th \\right)} - dth^{3} r^{2} t^{2} y_{0} + dth^{2} r^{2} t x_{0} \\cos{\\left(2 th \\right)} + dth^{2} r^{2} t x_{0} + dth^{2} r^{2} t y_{0} \\sin{\\left(2 th \\right)} + 2 dth^{2} r t x_{0}^{2} \\cos{\\left(th \\right)} + 2 dth^{2} r t x_{0} y_{0} \\sin{\\left(th \\right)} - \\frac{dth r x_{0}^{2} \\sin{\\left(th \\right)}}{2} - \\frac{dth r x_{0}^{2} \\sin{\\left(3 th \\right)}}{2} + dth r x_{0} y_{0} \\cos{\\left(th \\right)} + dth r x_{0} y_{0} \\cos{\\left(3 th \\right)} + \\frac{dth r x_{0} \\sin{\\left(th \\right)}}{4} - \\frac{3 dth r x_{0} \\cos{\\left(th \\right)}}{4} - \\frac{\\sqrt{2} dth r x_{0} \\cos{\\left(3 th + \\frac{\\pi}{4} \\right)}}{4} + \\frac{dth r y_{0}^{2} \\sin{\\left(th \\right)}}{2} + \\frac{dth r y_{0}^{2} \\sin{\\left(3 th \\right)}}{2} - \\frac{\\sqrt{2} dth r y_{0} \\sin{\\left(3 th + \\frac{\\pi}{4} \\right)}}{4} + \\frac{\\sqrt{2} dth r y_{0} \\cos{\\left(th + \\frac{\\pi}{4} \\right)}}{4}}{t \\left(2 dr^{2} t^{2} \\cos{\\left(th \\right)} - 2 dr dth r t^{2} \\sin{\\left(th \\right)} + dr t x_{0} \\cos{\\left(2 th \\right)} + 3 dr t x_{0} + dr t y_{0} \\sin{\\left(2 th \\right)} - dth r t x_{0} \\sin{\\left(2 th \\right)} + dth r t y_{0} \\cos{\\left(2 th \\right)} - dth r t y_{0} + 2 x_{0}^{2} \\cos{\\left(th \\right)} + 2 x_{0} y_{0} \\sin{\\left(th \\right)}\\right)}$"
      ],
      "text/plain": [
       "(-2*dr**3*dth*r**2*t**3*sin(th) - dr**3*r*t**2*x0*cos(2*th) + dr**3*r*t**2*x0 - dr**3*r*t**2*y0*sin(2*th) - 2*dr**2*dth**2*r**3*t**3*cos(th) + 2*dr**2*dth**2*r*t**3*cos(th) - 4*dr**2*dth*r**2*t**2*y0 + 2*dr**2*dth*r*t**2*sin(th) + dr**2*r*t*x0**2*cos(th)/2 - dr**2*r*t*x0**2*cos(3*th)/2 + 3*dr**2*r*t*x0*y0*sin(th) - dr**2*r*t*x0*y0*sin(3*th) - 5*dr**2*r*t*y0**2*cos(th)/2 + dr**2*r*t*y0**2*cos(3*th)/2 + dr**2*t*x0*cos(2*th) - dr**2*t*x0 + dr**2*t*y0*sin(2*th) + 2*dr**2*t*sqrt(dr**2*t**2 + 2*dr*t*x0*cos(th) + 2*dr*t*y0*sin(th) + dth**2*r**2*t**2 - 2*dth*r*t*x0*sin(th) + 2*dth*r*t*y0*cos(th) + x0**2 + y0**2)*cos(th) - sqrt(2)*dr**2*t*sin(2*th + pi/4)/2 - dr**2*t/2 - 2*dr*dth**3*r**2*t**3*sin(th) - dr*dth**2*r**3*t**2*x0*cos(2*th) - dr*dth**2*r**3*t**2*x0 - dr*dth**2*r**3*t**2*y0*sin(2*th) + 2*dr*dth**2*r**2*t**2*cos(th) + dr*dth**2*r*t**2*x0*cos(2*th) + 3*dr*dth**2*r*t**2*x0 + dr*dth**2*r*t**2*y0*sin(2*th) + dr*dth*r**2*t*x0**2*sin(th)/2 + dr*dth*r**2*t*x0**2*sin(3*th)/2 - 3*dr*dth*r**2*t*x0*y0*cos(th) - dr*dth*r**2*t*x0*y0*cos(3*th) - 5*dr*dth*r**2*t*y0**2*sin(th)/2 - dr*dth*r**2*t*y0**2*sin(3*th)/2 + 2*dr*dth*r*t*y0 - sqrt(2)*dr*dth*r*t*cos(2*th + pi/4)/2 - dr*dth*r*t/2 + dr*r*x0**2*y0*sin(2*th) - 2*dr*r*x0*y0**2*cos(2*th) - dr*r*y0**3*sin(2*th) - dr*x0**2*cos(th)/2 + dr*x0**2*cos(3*th)/2 - dr*x0*y0*sin(th) + dr*x0*y0*sin(3*th) + dr*x0*sqrt(dr**2*t**2 + 2*dr*t*x0*cos(th) + 2*dr*t*y0*sin(th) + dth**2*r**2*t**2 - 2*dth*r*t*x0*sin(th) + 2*dth*r*t*y0*cos(th) + x0**2 + y0**2)*cos(2*th) + dr*x0*sqrt(dr**2*t**2 + 2*dr*t*x0*cos(th) + 2*dr*t*y0*sin(th) + dth**2*r**2*t**2 - 2*dth*r*t*x0*sin(th) + 2*dth*r*t*y0*cos(th) + x0**2 + y0**2) - dr*x0*sin(th)/4 - sqrt(2)*dr*x0*sin(3*th + pi/4)/4 - 3*dr*x0*cos(th)/4 + dr*y0**2*cos(th)/2 - dr*y0**2*cos(3*th)/2 + dr*y0*sqrt(dr**2*t**2 + 2*dr*t*x0*cos(th) + 2*dr*t*y0*sin(th) + dth**2*r**2*t**2 - 2*dth*r*t*x0*sin(th) + 2*dth*r*t*y0*cos(th) + x0**2 + y0**2)*sin(2*th) - sqrt(2)*dr*y0*sin(th + pi/4)/4 + sqrt(2)*dr*y0*cos(3*th + pi/4)/4 - dth**3*r**2*t**2*x0*sin(2*th) + dth**3*r**2*t**2*y0*cos(2*th) - dth**3*r**2*t**2*y0 + dth**2*r**2*t*x0*cos(2*th) + dth**2*r**2*t*x0 + dth**2*r**2*t*y0*sin(2*th) + 2*dth**2*r*t*x0**2*cos(th) + 2*dth**2*r*t*x0*y0*sin(th) - dth*r*x0**2*sin(th)/2 - dth*r*x0**2*sin(3*th)/2 + dth*r*x0*y0*cos(th) + dth*r*x0*y0*cos(3*th) + dth*r*x0*sin(th)/4 - 3*dth*r*x0*cos(th)/4 - sqrt(2)*dth*r*x0*cos(3*th + pi/4)/4 + dth*r*y0**2*sin(th)/2 + dth*r*y0**2*sin(3*th)/2 - sqrt(2)*dth*r*y0*sin(3*th + pi/4)/4 + sqrt(2)*dth*r*y0*cos(th + pi/4)/4)/(t*(2*dr**2*t**2*cos(th) - 2*dr*dth*r*t**2*sin(th) + dr*t*x0*cos(2*th) + 3*dr*t*x0 + dr*t*y0*sin(2*th) - dth*r*t*x0*sin(2*th) + dth*r*t*y0*cos(2*th) - dth*r*t*y0 + 2*x0**2*cos(th) + 2*x0*y0*sin(th)))"
      ]
     },
     "execution_count": 7,
     "metadata": {},
     "output_type": "execute_result"
    }
   ],
   "source": [
    "sym.simplify(ddr2)"
   ]
  },
  {
   "cell_type": "code",
   "execution_count": 26,
   "id": "2e76b1cd-a8f1-4f48-81af-d9dfc2ac846e",
   "metadata": {},
   "outputs": [],
   "source": [
    "def dx(x): return x[1]*np.cos(x[3])-x[0]*x[4]*np.sin(x[3])\n",
    "def dy(x): return x[1]*np.sin(x[3])+x[0]*x[4]*np.cos(x[3])\n",
    "def ddr(t, x, x0):\n",
    "    return ((x0[0]+t*dx(x))*(0.5*x[1]**2*(x0[0]+t*dx(x))-dx(x)-t*(-2*x[1]*x[4]*np.sin(x[3])\n",
    "            -x[0]*x[4]**2*np.cos(x[3])-(-2*x[1]*x[4]*np.sin(x[3])+x[0]*x[4]**2*np.sin(x[3])**2/np.cos(x[3]))))\n",
    "            +((x0[1]+t*dy(x))*(0.5*x[1]**2*(x0[1]+t*dy(x))-dy(x)\n",
    "            -t*(2*x[1]*x[4]*np.cos(x[3])-x[0]*x[4]**2*np.sin(x[3])+(-2*x[1]*x[4]*np.cos(x[3])+x[0]*x[4]**2*np.sin(x[3])))))) \\\n",
    "            /((t*((x0[0]+t*dx(x))*np.cos(x[3])+(x0[1]+t*dy(x))*np.sin(x[3])))\n",
    "            *(1+t*((x0[0]+t*dx(x))*np.cos(x[3])-(x0[1]+t*dy(x)*np.sin(x[3])))))\n",
    "def ddtheta(t, x, x0):\n",
    "    return ((-2*x[1]*x[4]+x[0]*x[4]**2*np.tan(x[3]))-np.tan(x[3])*ddr(t, x, x0))/x[0]\n",
    "\n",
    "## For x0\n",
    "def dtheta(x0, x): return (x0[3]/(x[0]*np.cos(x[3]))-x0[0]*np.sin(x[3])/(x[0]*np.cos(x[3])))/(1-np.tan(x[3])**2)\n",
    "def dr(x0, x): return (x0[2]+x[0]*dtheta(x0, x)*np.sin(x[3]))/np.cos(x[3])"
   ]
  },
  {
   "cell_type": "code",
   "execution_count": 27,
   "id": "55640d86-8595-4ca9-b471-a3f24238b74a",
   "metadata": {},
   "outputs": [
    {
     "name": "stderr",
     "output_type": "stream",
     "text": [
      "/tmp/ipykernel_8958/2977006178.py:4: RuntimeWarning: divide by zero encountered in scalar divide\n",
      "  return ((x0[0]+t*dx(x))*(0.5*x[1]**2*(x0[0]+t*dx(x))-dx(x)-t*(-2*x[1]*x[4]*np.sin(x[3])\n"
     ]
    },
    {
     "data": {
      "text/plain": [
       "array([[ 4.24264069,  0.        ,  0.        , ...,  0.        ,\n",
       "         0.        ,  0.        ],\n",
       "       [ 2.68164445,  0.        ,  0.        , ...,  0.        ,\n",
       "         0.        ,  0.        ],\n",
       "       [       -inf,  0.        ,  0.        , ...,  0.        ,\n",
       "         0.        ,  0.        ],\n",
       "       [-0.23794112,  0.        ,  0.        , ...,  0.        ,\n",
       "         0.        ,  0.        ],\n",
       "       [ 0.39391004,  0.        ,  0.        , ...,  0.        ,\n",
       "         0.        ,  0.        ],\n",
       "       [       -inf,  0.        ,  0.        , ...,  0.        ,\n",
       "         0.        ,  0.        ]])"
      ]
     },
     "execution_count": 27,
     "metadata": {},
     "output_type": "execute_result"
    }
   ],
   "source": [
    "t = np.arange(0,100,0.000001)\n",
    "x0 = [-2,-1, 3, 2]\n",
    "x = np.zeros((6,len(t))) ### r, dr, ddr, theta, dtheta, ddtheta\n",
    "x[0,0] = np.linalg.norm(x0, ord=2)\n",
    "x[3,0] = np.arcsin(x0[1]/x[0,0])\n",
    "x[1,0] = dr(x0, x[:,0])\n",
    "x[4,0] = dtheta(x0, x[:,0])\n",
    "x[2,0] = ddr(0, x[:,0], x0)\n",
    "x[5,0] = ddtheta(0, x[:,0], x0)\n",
    "#for i in range(len(t)):\n",
    "\n",
    "x"
   ]
  },
  {
   "cell_type": "code",
   "execution_count": null,
   "id": "8ee07096-cbdb-4810-8de6-643ececfd183",
   "metadata": {},
   "outputs": [],
   "source": []
  }
 ],
 "metadata": {
  "kernelspec": {
   "display_name": "Python 3 (ipykernel)",
   "language": "python",
   "name": "python3"
  },
  "language_info": {
   "codemirror_mode": {
    "name": "ipython",
    "version": 3
   },
   "file_extension": ".py",
   "mimetype": "text/x-python",
   "name": "python",
   "nbconvert_exporter": "python",
   "pygments_lexer": "ipython3",
   "version": "3.12.9"
  }
 },
 "nbformat": 4,
 "nbformat_minor": 5
}
