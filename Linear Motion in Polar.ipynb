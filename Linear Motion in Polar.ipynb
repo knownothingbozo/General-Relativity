{
 "cells": [
  {
   "cell_type": "code",
   "execution_count": 1,
   "id": "238305c7-03bb-494c-bb2a-595db7ffeb78",
   "metadata": {},
   "outputs": [],
   "source": [
    "import numpy as np\n",
    "from IPython.core.interactiveshell import InteractiveShell\n",
    "InteractiveShell.ast_node_interactivity = 'all'"
   ]
  },
  {
   "cell_type": "code",
   "execution_count": 10,
   "id": "2e76b1cd-a8f1-4f48-81af-d9dfc2ac846e",
   "metadata": {},
   "outputs": [],
   "source": [
    "def dx(r, dr, theta, dtheta): return dr*np.cos(theta)-r*dtheta*np.sin(theta)\n",
    "def dy(r, dr, theta, dtheta): return dr*np.sin(theta)+r*dtheta*np.cos(theta)\n",
    "def ddr(t, r, dr, theta, dtheta, x0):\n",
    "    return ((x0[0]+t*dx(r, dr, theta, dtheta))*(0.5*dr**2*(x0[0]+t*dx(r, dr, theta, dtheta))-dx(r, dr, theta, dtheta)\n",
    "            -t*(-2*dr*dtheta*np.sin(theta)-r*dtheta**2*np.cos(theta)-(-2*dr*dtheta*np.sin(theta)+r*dtheta**2*np.sin(theta)**2/np.cos(theta))))\n",
    "            +((x0[1]+t*dy(r, dr, theta, dtheta))*(0.5*dr**2*(x0[1]+t*dy(r, dr, theta, dtheta))-dy(r, dr, theta, dtheta)\n",
    "            -t*(2*dr*dtheta*np.cos(theta)-r*dtheta**2*np.sin(theta)+(-2*dr*dtheta*np.cos(theta)+r*dtheta**2*np.sin(theta)))))) \\\n",
    "            /((t*((x0[0]+t*dx(r, dr, theta, dtheta))*np.cos(theta)+(x0[1]+t*dy(r, dr, theta, dtheta))*np.sin(theta)))\n",
    "            *(1+t*((x0[0]+t*dx(r, dr, theta, dtheta))*np.cos(theta)-(x0[1]+t*dy(r, dr, theta, dtheta)*np.sin(theta)))))\n",
    "def ddtheta(t, r, dr, theta, dtheta, x0):\n",
    "    return ((-2*dr*dtheta+r*dtheta**2*np.tan(theta))-np.tan(theta)*ddr"
   ]
  },
  {
   "cell_type": "code",
   "execution_count": null,
   "id": "55640d86-8595-4ca9-b471-a3f24238b74a",
   "metadata": {},
   "outputs": [],
   "source": []
  }
 ],
 "metadata": {
  "kernelspec": {
   "display_name": "Python 3 (ipykernel)",
   "language": "python",
   "name": "python3"
  },
  "language_info": {
   "codemirror_mode": {
    "name": "ipython",
    "version": 3
   },
   "file_extension": ".py",
   "mimetype": "text/x-python",
   "name": "python",
   "nbconvert_exporter": "python",
   "pygments_lexer": "ipython3",
   "version": "3.12.8"
  }
 },
 "nbformat": 4,
 "nbformat_minor": 5
}
